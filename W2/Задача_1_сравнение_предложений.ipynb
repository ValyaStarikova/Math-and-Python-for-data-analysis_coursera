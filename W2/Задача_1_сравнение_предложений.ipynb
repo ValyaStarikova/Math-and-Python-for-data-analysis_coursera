{
 "cells": [
  {
   "cell_type": "code",
   "execution_count": 9,
   "metadata": {},
   "outputs": [],
   "source": [
    "import re\n",
    "import numpy as np\n",
    "from scipy import spatial"
   ]
  },
  {
   "cell_type": "code",
   "execution_count": 2,
   "metadata": {},
   "outputs": [],
   "source": [
    "f = open('sentences.txt', 'r')\n",
    "text = f.readlines()\n",
    "text = [re.split('[^a-z]',str.lower(sentence)) for sentence in text]\n",
    "text_ = []\n",
    "for sentence in text:\n",
    "    text_.append([word for word in sentence if word != ''])\n",
    "text = text_"
   ]
  },
  {
   "cell_type": "code",
   "execution_count": 3,
   "metadata": {},
   "outputs": [],
   "source": [
    "words_indexes = {}\n",
    "index = 0\n",
    "for sentence in text:\n",
    "    for word in sentence:\n",
    "        if words_indexes.get(word) == None:\n",
    "            words_indexes[word] = index\n",
    "            index += 1        "
   ]
  },
  {
   "cell_type": "code",
   "execution_count": 4,
   "metadata": {},
   "outputs": [
    {
     "data": {
      "text/plain": [
       "0.0"
      ]
     },
     "execution_count": 4,
     "metadata": {},
     "output_type": "execute_result"
    }
   ],
   "source": [
    "matrix = np.zeros((22,254))\n",
    "matrix[0,0]"
   ]
  },
  {
   "cell_type": "code",
   "execution_count": 7,
   "metadata": {},
   "outputs": [
    {
     "data": {
      "text/plain": [
       "array([[1., 1., 1., ..., 0., 0., 0.],\n",
       "       [0., 0., 1., ..., 0., 0., 0.],\n",
       "       [0., 0., 2., ..., 0., 0., 0.],\n",
       "       ...,\n",
       "       [0., 0., 0., ..., 0., 0., 0.],\n",
       "       [1., 0., 1., ..., 0., 0., 0.],\n",
       "       [0., 0., 1., ..., 1., 1., 1.]])"
      ]
     },
     "execution_count": 7,
     "metadata": {},
     "output_type": "execute_result"
    }
   ],
   "source": [
    "i = 0\n",
    "for sentence in text:\n",
    "    words_dictionary = {}\n",
    "    for word in sentence:\n",
    "        if words_dictionary.get(word) == None:\n",
    "            words_dictionary[word] = 1\n",
    "        else:\n",
    "            words_dictionary[word] += 1\n",
    "    for word in words_dictionary:\n",
    "        matrix[i,words_indexes[word]] = words_dictionary[word]\n",
    "    i += 1"
   ]
  },
  {
   "cell_type": "code",
   "execution_count": 23,
   "metadata": {},
   "outputs": [
    {
     "name": "stdout",
     "output_type": "stream",
     "text": [
      "0.9527544408738466\n",
      "0.8644738145642124\n",
      "0.8951715163278082\n",
      "0.7770887149698589\n",
      "0.9402385695332803\n",
      "0.7327387580875756\n",
      "0.9258750683338899\n",
      "0.8842724875284311\n",
      "0.9055088817476932\n",
      "0.8328165362273942\n",
      "0.8804771390665607\n",
      "0.8396432548525454\n",
      "0.8703592552895671\n",
      "0.8740118423302576\n",
      "0.9442721787424647\n",
      "0.8406361854220809\n",
      "0.956644501523794\n",
      "0.9442721787424647\n",
      "0.8885443574849294\n",
      "0.8427572744917122\n",
      "0.8250364469440588\n"
     ]
    },
    {
     "data": {
      "text/plain": [
       "[0.7327387580875756,\n",
       " 0.7770887149698589,\n",
       " 0.8250364469440588,\n",
       " 0.8328165362273942,\n",
       " 0.8396432548525454,\n",
       " 0.8406361854220809,\n",
       " 0.8427572744917122,\n",
       " 0.8644738145642124,\n",
       " 0.8703592552895671,\n",
       " 0.8740118423302576,\n",
       " 0.8804771390665607,\n",
       " 0.8842724875284311,\n",
       " 0.8885443574849294,\n",
       " 0.8951715163278082,\n",
       " 0.9055088817476932,\n",
       " 0.9258750683338899,\n",
       " 0.9402385695332803,\n",
       " 0.9442721787424647,\n",
       " 0.9442721787424647,\n",
       " 0.9527544408738466,\n",
       " 0.956644501523794]"
      ]
     },
     "execution_count": 23,
     "metadata": {},
     "output_type": "execute_result"
    }
   ],
   "source": [
    "distance = []\n",
    "for i in range(1,22):\n",
    "    print(spatial.distance.cosine(matrix[0],matrix[i]))\n",
    "    distance.append(spatial.distance.cosine(matrix[0],matrix[i]))\n",
    "sorted(distance)"
   ]
  },
  {
   "cell_type": "code",
   "execution_count": null,
   "metadata": {},
   "outputs": [],
   "source": []
  }
 ],
 "metadata": {
  "kernelspec": {
   "display_name": "Python 3",
   "language": "python",
   "name": "python3"
  },
  "language_info": {
   "codemirror_mode": {
    "name": "ipython",
    "version": 3
   },
   "file_extension": ".py",
   "mimetype": "text/x-python",
   "name": "python",
   "nbconvert_exporter": "python",
   "pygments_lexer": "ipython3",
   "version": "3.8.3"
  }
 },
 "nbformat": 4,
 "nbformat_minor": 4
}
