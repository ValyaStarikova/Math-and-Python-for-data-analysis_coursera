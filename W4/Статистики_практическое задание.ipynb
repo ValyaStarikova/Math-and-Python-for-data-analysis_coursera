#!/usr/bin/env python
# coding: utf-8

# In[10]:


import math
import numpy as np
import matplotlib.pyplot as plt
from scipy.stats import pareto
import scipy.stats as sts
get_ipython().run_line_magic('matplotlib', 'inline')

# Выбор параметров для распределения
k = 10
#Сгенерируйте из него выборку объёма 1000
sampleRange = pareto.rvs(k, size=1000)

#Постройте гистограмму выборки и нарисуйте поверх неё теоретическую плотность распределения вашей случайной величины.
plt.hist(sampleRange, normed=True, bins=20, alpha=0.5, label='hist samples pareto')
plt.ylabel('number of samples')
plt.xlabel('$x$')

#теоретическая плотность распределения случайной величины
left = pareto.ppf(0.01, k)
right =  pareto.ppf(0.99, k)
x = np.linspace(left,  right, 100)
plt.plot(x, pareto.pdf(x, k), 'r-', lw=5, alpha=0.7, label='pareto pdf')
plt.legend(loc='best')

# функция построения гистограммы распределений выборочных средних 
# и плотности соответствующего нормального распределения 
# sizeSamples - выбороки объёма n
def paretoF(sizeSamples, Ex, Dx):
    n = sizeSamples
    #генерация выборок
    values = np.array([ pareto.rvs(k, size=n) for x in range(1000)])
    #вычисление выборочных средних
    meanVal = values.mean(axis = 1)
    plt.hist(meanVal, normed=True, alpha=0.5, label='hist mean n ' + str(n))
    
    #мат. ожидание м sigma нормального распределения
    mu = Ex
    sigma = math.sqrt(Dx/n)
    print('мат. ожидание=' , mu)
    print('sigma=' , sigma)
    # зададим нормальное распределенние
    norm_rv = sts.norm(loc=mu, scale=sigma)
    x = np.linspace(0.5,2,100)
    pdf = norm_rv.pdf(x)
    plt.plot(x, pdf, 'r-', lw=3, alpha=0.7, label='pareto pdf n ' + str(n))
    plt.ylabel('samples')
    plt.xlabel('$x$')
    plt.legend(loc='best')

#Вычисление теоритических EX, std, DX  распределения
EX = pareto.mean(k)
std = pareto.std(k)
DX = std**2
print('Ex=', EX, ' STD=', std, ' DX=', DX)

paretoF(5, EX, DX)

paretoF(10, EX, DX)

paretoF(50, EX, DX)


# In[ ]:





# In[ ]:




